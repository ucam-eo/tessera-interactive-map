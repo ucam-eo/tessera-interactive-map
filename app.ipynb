{
 "cells": [
  {
   "cell_type": "code",
   "execution_count": 2,
   "metadata": {},
   "outputs": [],
   "source": [
    "%reload_ext autoreload\n",
    "%autoreload 2\n",
    "\n",
    "from interactive import utils, config, visualisation\n",
    "\n",
    "Config = config.Config()"
   ]
  },
  {
   "cell_type": "markdown",
   "metadata": {},
   "source": [
    "# Welcome to TESSERA!\n",
    "\n",
    "In this interactive notebook you can visualise the embeddings for a region of interest (ROI) and train a [k-Nearest Neigbours](https://en.wikipedia.org/wiki/K-nearest_neighbors_algorithm) classifier.\n",
    "\n",
    "We hope this will demonstrate the power of TESSERA's openly-available embeddings for performing land cover classification over a range of areas and cover classes.\n",
    "\n",
    "### How to use\n",
    "\n",
    "1. Run the previous cell (by clicking the 'play' button) to load the necessary code\n",
    "2. Update your region of interest (ROI) in the cell below\n",
    "3. Run the cell below!\n",
    "4. When the map appears:\n",
    "   - Navigate to your region of interest (zoom/pan)\n",
    "   - Click the rectangle tool in the drawing toolbar\n",
    "   - Draw a rectangle on the map\n",
    "   - Click 'Get Coordinates'\n",
    "5. Run the next cell to visualise and classify the TESSERA embeddings:\n",
    "   - Follow the interface to select points on the map for each class\n",
    "   - Add new classes as necessary\n",
    "   - Click 'classify' to see the result of the k-Nearest Neigbours classifier\n",
    "   - Export your points by clicking 'Save labels'\n",
    "\n",
    "This product is in early stages: please get in touch with any feedback."
   ]
  },
  {
   "cell_type": "code",
   "execution_count": 3,
   "metadata": {},
   "outputs": [
    {
     "data": {
      "application/vnd.jupyter.widget-view+json": {
       "model_id": "40c40be844db42e2a28f3f7fc6082235",
       "version_major": 2,
       "version_minor": 0
      },
      "text/plain": [
       "VBox(children=(HTML(value='<b>Instructions:</b> Draw a rectangle on the map to select your bounding box.'), Ma…"
      ]
     },
     "metadata": {},
     "output_type": "display_data"
    }
   ],
   "source": [
    "# -- 1. ROI DEFINITION --\n",
    "\n",
    "# Create and display the bounding box selector\n",
    "bbox_selector = visualisation.BoundingBoxSelector()\n",
    "bbox_selector.display()"
   ]
  },
  {
   "cell_type": "code",
   "execution_count": null,
   "metadata": {},
   "outputs": [],
   "source": [
    "bbox_tuple = bbox_selector.get_bbox()\n",
    "if bbox_tuple:\n",
    "    (MIN_LAT, MAX_LAT), (MIN_LON, MAX_LON) = bbox_tuple\n",
    "else:\n",
    "    raise ValueError(\"No bounding box selected\")\n",
    "\n",
    "# -- 2. FETCH AND MOSAIC RELEVANT TESSERA TILES --\n",
    "\n",
    "embedding_mosaic, mosaic_transform = utils.TesseraUtils().process_roi_to_mosaic(\n",
    "    lat_coords=(MIN_LAT, MAX_LAT),\n",
    "    lon_coords=(MIN_LON, MAX_LON),\n",
    ")\n",
    "\n",
    "# -- 3. VISUALISE MAP, PLACE TRAINING POINTS, & RUN CLASSIFICATION --\n",
    "\n",
    "mapping_tool = visualisation.InteractiveMappingTool(\n",
    "    MIN_LAT,\n",
    "    MAX_LAT,\n",
    "    MIN_LON,\n",
    "    MAX_LON,\n",
    "    embedding_mosaic,\n",
    "    mosaic_transform,\n",
    ")\n",
    "mapping_tool.display()"
   ]
  }
 ],
 "metadata": {
  "kernelspec": {
   "display_name": "tessera-venv",
   "language": "python",
   "name": "python3"
  },
  "language_info": {
   "codemirror_mode": {
    "name": "ipython",
    "version": 3
   },
   "file_extension": ".py",
   "mimetype": "text/x-python",
   "name": "python",
   "nbconvert_exporter": "python",
   "pygments_lexer": "ipython3",
   "version": "3.12.5"
  }
 },
 "nbformat": 4,
 "nbformat_minor": 4
}
