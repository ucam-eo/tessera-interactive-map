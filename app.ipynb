{
 "cells": [
  {
   "cell_type": "code",
   "execution_count": 1,
   "metadata": {},
   "outputs": [],
   "source": [
    "%reload_ext autoreload\n",
    "%autoreload 2\n",
    "\n",
    "from interactive import utils, config, visualisation\n",
    "\n",
    "Config = config.Config()"
   ]
  },
  {
   "cell_type": "markdown",
   "metadata": {},
   "source": [
    "# Welcome to TESSERA!\n",
    "\n",
    "In this interactive notebook you can visualise the embeddings for a region of interest (ROI) and train a [k-Nearest Neigbours](https://en.wikipedia.org/wiki/K-nearest_neighbors_algorithm) classifier.\n",
    "\n",
    "We hope this will demonstrate the power of TESSERA's openly-available embeddings for performing land cover classification over a range of areas and cover classes.\n",
    "\n",
    "### How to use\n",
    "\n",
    "1. Run the previous cell (by clicking the 'play' button) to load the necessary code\n",
    "2. Update your region of interest (ROI) in the cell below\n",
    "3. Run the cell below!\n",
    "4. When the map appears:\n",
    "   - Follow the interface to select points on the map for each class\n",
    "   - Add new classes as necessary\n",
    "   - Click 'classify' to see the result of the k-Nearest Neigbours classifier\n",
    "   - Export your points by clicking 'Save labels'\n",
    "\n",
    "This product is in early stages: please get in touch with any feedback."
   ]
  },
  {
   "cell_type": "code",
   "execution_count": 2,
   "metadata": {},
   "outputs": [
    {
     "name": "stdout",
     "output_type": "stream",
     "text": [
      "Bounding box defined:\n",
      "┗ (52.00, -0.10) | ┓ (52.20, 0.30)\n",
      "\n",
      "Searching for tiles in ROI: (-0.1, 52.0, 0.3, 52.2) for year 2024\n",
      "\n",
      "Found 15 tiles to merge.\n"
     ]
    },
    {
     "data": {
      "application/vnd.jupyter.widget-view+json": {
       "model_id": "300c4bdbda9b4a3e9741a08bfd52620d",
       "version_major": 2,
       "version_minor": 0
      },
      "text/plain": [
       "Processing tiles:   0%|          | 0/15 [00:00<?, ?it/s]"
      ]
     },
     "metadata": {},
     "output_type": "display_data"
    },
    {
     "name": "stdout",
     "output_type": "stream",
     "text": [
      "\n",
      "Merging all tiles...\n",
      "Shape of final embedding mosaic: (2853, 4791, 128)\n",
      "Bounds of displayed embedding mosaic: ┗ (51.90, -0.21) | ┓ (52.20, 0.31)\n",
      "\n",
      "Creating PCA-based visualization...\n",
      "Normalizing PCA components for display...\n",
      "PCA visualization created.\n",
      "Image overlay added to map.\n"
     ]
    },
    {
     "data": {
      "application/vnd.jupyter.widget-view+json": {
       "model_id": "62ff4336b9fe4646adfaa14bd569cfd4",
       "version_major": 2,
       "version_minor": 0
      },
      "text/plain": [
       "VBox(children=(HBox(children=(VBox(children=(Dropdown(description='Basemap:', options=('Esri Satellite', 'Goog…"
      ]
     },
     "metadata": {},
     "output_type": "display_data"
    }
   ],
   "source": [
    "# -- 1. ROI DEFINITION --\n",
    "\n",
    "# This is in increments of 0.1, and requires at least a 0.1 by 0.1 deg bbox\n",
    "# **USER INPUT REQUIRED** update coordinates here, otherwise defaults will be used (South Cambridge)\n",
    "MIN_LON, MAX_LON = -0.10, 0.30\n",
    "MIN_LAT, MAX_LAT = 52.00, 52.20\n",
    "\n",
    "# -- 2. FETCH AND MOSAIC RELEVANT TESSERA TILES --\n",
    "\n",
    "embedding_mosaic, mosaic_transform = utils.TesseraUtils().process_roi_to_mosaic(\n",
    "    lat_coords=(MIN_LAT, MAX_LAT),\n",
    "    lon_coords=(MIN_LON, MAX_LON),\n",
    ")\n",
    "\n",
    "# -- 3. VISUALISE MAP, PLACE TRAINING POINTS, & RUN CLASSIFICATION --\n",
    "\n",
    "mapping_tool = visualisation.InteractiveMappingTool(\n",
    "    MIN_LAT,\n",
    "    MAX_LAT,\n",
    "    MIN_LON,\n",
    "    MAX_LON,\n",
    "    embedding_mosaic,\n",
    "    mosaic_transform,\n",
    ")\n",
    "mapping_tool.display()"
   ]
  }
 ],
 "metadata": {
  "kernelspec": {
   "display_name": "tessera-venv",
   "language": "python",
   "name": "python3"
  },
  "language_info": {
   "codemirror_mode": {
    "name": "ipython",
    "version": 3
   },
   "file_extension": ".py",
   "mimetype": "text/x-python",
   "name": "python",
   "nbconvert_exporter": "python",
   "pygments_lexer": "ipython3",
   "version": "3.12.5"
  }
 },
 "nbformat": 4,
 "nbformat_minor": 2
}
