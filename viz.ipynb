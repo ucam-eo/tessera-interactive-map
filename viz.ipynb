{
 "cells": [
  {
   "cell_type": "code",
   "execution_count": 6,
   "id": "b8d565d7-36be-4229-90aa-c4eed359f335",
   "metadata": {},
   "outputs": [
    {
     "data": {
      "text/plain": [
       "<module 'tesseraclassifier.habitat_classifier' from 'c:\\\\Users\\\\Robin\\\\Documents\\\\GitHub\\\\tessera-interactive-map\\\\tesseraclassifier\\\\habitat_classifier.py'>"
      ]
     },
     "execution_count": 6,
     "metadata": {},
     "output_type": "execute_result"
    }
   ],
   "source": [
    "from tesseraclassifier import habitat_classifier\n",
    "from tesseraclassifier import classifier_utils, viz_utils\n",
    "import geopandas as gpd\n",
    "import tempfile\n",
    "from IPython.display import display\n",
    "\n",
    "import importlib\n",
    "importlib.reload(classifier_utils)\n",
    "importlib.reload(habitat_classifier)\n"
   ]
  },
  {
   "cell_type": "code",
   "execution_count": 13,
   "id": "12e1eb8b-9ca7-4f81-914d-392e604cb2ec",
   "metadata": {},
   "outputs": [
    {
     "name": "stdout",
     "output_type": "stream",
     "text": [
      "--- Loading Mappings for Visualization ---\n",
      "Generated class mappings from all labels in the file.\n",
      "Loaded 4 color definitions.\n",
      "✅ Mappings ready for visualization.\n",
      "Reprojecting classified raster to Web Mercator...\n",
      "Converting warped raster to displayable image...\n",
      "✅ Interactive map with legend created.\n"
     ]
    },
    {
     "data": {
      "application/vnd.jupyter.widget-view+json": {
       "model_id": "0408c49fd62c494eada8031d47a4b6e3",
       "version_major": 2,
       "version_minor": 0
      },
      "text/plain": [
       "VBox(children=(Map(center=[52.10201786759574, 0.06185716503447691], controls=(ZoomControl(options=['position',…"
      ]
     },
     "metadata": {},
     "output_type": "display_data"
    }
   ],
   "source": [
    "# Define paths to your data\n",
    "key = \"bounding_box\"\n",
    "CLASSIFIED_TILE = f\"put_name.tif\"\n",
    "labels_json_file = \"put_path.json\"\n",
    "\n",
    "labels = classifier_utils.load_training_labels_from_json(labels_json_file)\n",
    "label_to_id, id_to_label, class_colors = classifier_utils.load_visualization_mappings(labels_json_file)\n",
    "\n",
    "interactive_map = viz_utils.create_interactive_map(\n",
    "    classified_raster_path=CLASSIFIED_TILE,\n",
    "    training_points=labels,\n",
    "    id_to_label=id_to_label,\n",
    "    class_colors_hex=class_colors\n",
    ")\n",
    "\n",
    "display(interactive_map)"
   ]
  }
 ],
 "metadata": {
  "kernelspec": {
   "display_name": "Python 3 (ipykernel)",
   "language": "python",
   "name": "python3"
  },
  "language_info": {
   "codemirror_mode": {
    "name": "ipython",
    "version": 3
   },
   "file_extension": ".py",
   "mimetype": "text/x-python",
   "name": "python",
   "nbconvert_exporter": "python",
   "pygments_lexer": "ipython3",
   "version": "3.12.6"
  }
 },
 "nbformat": 4,
 "nbformat_minor": 5
}
